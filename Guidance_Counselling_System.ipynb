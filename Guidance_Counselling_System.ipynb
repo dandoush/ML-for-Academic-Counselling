{
  "nbformat": 4,
  "nbformat_minor": 0,
  "metadata": {
    "colab": {
      "provenance": [],
      "authorship_tag": "ABX9TyPJfEoTObsAfLZf6x8KVxBc",
      "include_colab_link": true
    },
    "kernelspec": {
      "name": "python3",
      "display_name": "Python 3"
    },
    "language_info": {
      "name": "python"
    }
  },
  "cells": [
    {
      "cell_type": "markdown",
      "metadata": {
        "id": "view-in-github",
        "colab_type": "text"
      },
      "source": [
        "<a href=\"https://colab.research.google.com/github/dandoush/ML-for-Academic-Counselling/blob/main/Guidance_Counselling_System.ipynb\" target=\"_parent\"><img src=\"https://colab.research.google.com/assets/colab-badge.svg\" alt=\"Open In Colab\"/></a>"
      ]
    },
    {
      "cell_type": "markdown",
      "source": [
        "**Simple Tutorial: AI and ML-Based Academic Guidance and Counselling System.**\n",
        "\n",
        "The system analyzes student profiles, grades, and interests to recommend specializations or universities based on expected admission success rates."
      ],
      "metadata": {
        "id": "q1MQzlp-ywm4"
      }
    },
    {
      "cell_type": "markdown",
      "source": [
        "By the end of this tutorial, you will:\n",
        "\n",
        "Understand how to preprocess student data.\n",
        "\n",
        "Train a machine learning model to predict admission success.\n",
        "Build a recommendation system for universities or specializations.\n",
        "Visualize recommendations.\n",
        "\n",
        "\n",
        "*   dataset used: Admission Prediction Dataset (available on Kaggle or UCI).: https://www.kaggle.com/datasets/mukeshmanral/graduates-admission-prediction\n",
        "\n",
        "Inspiration\n",
        "Results will help students in shortlisting universities with their profiles. Predicted output can provide students a fair idea about their chances for a particular university.\n",
        "\n",
        "\n"
      ],
      "metadata": {
        "id": "D0AqA1_uyrzI"
      }
    },
    {
      "cell_type": "markdown",
      "source": [
        "1.** Dataset and Problem Overview**\n",
        "\n",
        "For simplicity, we will use a dataset that includes the following:\n",
        "\n",
        "Student Profile: GRE Score, TOEFL Score, GPA.\n",
        "Grades: Undergraduate GPA, relevant coursework grades.\n",
        "Interests: Specialization fields like Data Science, AI, Robotics.\n",
        "Target: Admission success probability.\n",
        "\n",
        "GRE Score (Graduate Record Examination) is like a test placement organized by the university during the admission application\n",
        "\n",
        "SOP (Statement of Purpose): is a motivation letter\n",
        "\n",
        "LOR (Letter of Recommendation):  Letters written by professors, employers\n",
        "CGPA (Cumulative Grade Point Average)\n",
        "\n",
        "The University Rating feature typically refers to a numerical or categorical value that rates or ranks universities based on their overall reputation, quality of education, or competitiveness\n",
        "\n",
        "These metrics with TOFEL (120) and Research work (if any) collectively help universities assess your academic readiness, English proficiency, research interests, and potential for success in their program."
      ],
      "metadata": {
        "id": "rxwdIXiFzlJ5"
      }
    },
    {
      "cell_type": "markdown",
      "source": [
        "**2. Workflow**\n",
        "\n",
        "**Step 1:** Import Libraries and Dataset"
      ],
      "metadata": {
        "id": "GF-5C9mDz4jL"
      }
    },
    {
      "cell_type": "code",
      "execution_count": null,
      "metadata": {
        "id": "ik-YSqEFyZwK"
      },
      "outputs": [],
      "source": [
        "import pandas as pd\n",
        "import numpy as np\n",
        "from sklearn.model_selection import train_test_split\n",
        "from sklearn.ensemble import RandomForestClassifier\n",
        "from sklearn.metrics import accuracy_score, classification_report\n",
        "import matplotlib.pyplot as plt\n",
        "import seaborn as sns\n",
        "\n"
      ]
    },
    {
      "cell_type": "markdown",
      "source": [
        "**Step 2**: Load and Explore the Dataset\n"
      ],
      "metadata": {
        "id": "CGeb5yZh0DYs"
      }
    },
    {
      "cell_type": "code",
      "source": [
        "# Load dataset\n",
        "#df = pd.read_csv(\"admission_data.csv\")\n",
        "# Load the dataset\n",
        "from google.colab import files\n",
        "uploaded = files.upload()\n",
        "\n",
        "data_path = 'admission_data.csv.csv'\n",
        "import pandas as pd\n",
        "df = pd.read_csv(data_path)\n"
      ],
      "metadata": {
        "colab": {
          "base_uri": "https://localhost:8080/",
          "height": 73
        },
        "id": "ugknBOgD0FaE",
        "outputId": "da4198ad-7f6e-43f4-afbb-bef687468742"
      },
      "execution_count": null,
      "outputs": [
        {
          "output_type": "display_data",
          "data": {
            "text/plain": [
              "<IPython.core.display.HTML object>"
            ],
            "text/html": [
              "\n",
              "     <input type=\"file\" id=\"files-72d77822-7844-494e-b540-f37e5f255039\" name=\"files[]\" multiple disabled\n",
              "        style=\"border:none\" />\n",
              "     <output id=\"result-72d77822-7844-494e-b540-f37e5f255039\">\n",
              "      Upload widget is only available when the cell has been executed in the\n",
              "      current browser session. Please rerun this cell to enable.\n",
              "      </output>\n",
              "      <script>// Copyright 2017 Google LLC\n",
              "//\n",
              "// Licensed under the Apache License, Version 2.0 (the \"License\");\n",
              "// you may not use this file except in compliance with the License.\n",
              "// You may obtain a copy of the License at\n",
              "//\n",
              "//      http://www.apache.org/licenses/LICENSE-2.0\n",
              "//\n",
              "// Unless required by applicable law or agreed to in writing, software\n",
              "// distributed under the License is distributed on an \"AS IS\" BASIS,\n",
              "// WITHOUT WARRANTIES OR CONDITIONS OF ANY KIND, either express or implied.\n",
              "// See the License for the specific language governing permissions and\n",
              "// limitations under the License.\n",
              "\n",
              "/**\n",
              " * @fileoverview Helpers for google.colab Python module.\n",
              " */\n",
              "(function(scope) {\n",
              "function span(text, styleAttributes = {}) {\n",
              "  const element = document.createElement('span');\n",
              "  element.textContent = text;\n",
              "  for (const key of Object.keys(styleAttributes)) {\n",
              "    element.style[key] = styleAttributes[key];\n",
              "  }\n",
              "  return element;\n",
              "}\n",
              "\n",
              "// Max number of bytes which will be uploaded at a time.\n",
              "const MAX_PAYLOAD_SIZE = 100 * 1024;\n",
              "\n",
              "function _uploadFiles(inputId, outputId) {\n",
              "  const steps = uploadFilesStep(inputId, outputId);\n",
              "  const outputElement = document.getElementById(outputId);\n",
              "  // Cache steps on the outputElement to make it available for the next call\n",
              "  // to uploadFilesContinue from Python.\n",
              "  outputElement.steps = steps;\n",
              "\n",
              "  return _uploadFilesContinue(outputId);\n",
              "}\n",
              "\n",
              "// This is roughly an async generator (not supported in the browser yet),\n",
              "// where there are multiple asynchronous steps and the Python side is going\n",
              "// to poll for completion of each step.\n",
              "// This uses a Promise to block the python side on completion of each step,\n",
              "// then passes the result of the previous step as the input to the next step.\n",
              "function _uploadFilesContinue(outputId) {\n",
              "  const outputElement = document.getElementById(outputId);\n",
              "  const steps = outputElement.steps;\n",
              "\n",
              "  const next = steps.next(outputElement.lastPromiseValue);\n",
              "  return Promise.resolve(next.value.promise).then((value) => {\n",
              "    // Cache the last promise value to make it available to the next\n",
              "    // step of the generator.\n",
              "    outputElement.lastPromiseValue = value;\n",
              "    return next.value.response;\n",
              "  });\n",
              "}\n",
              "\n",
              "/**\n",
              " * Generator function which is called between each async step of the upload\n",
              " * process.\n",
              " * @param {string} inputId Element ID of the input file picker element.\n",
              " * @param {string} outputId Element ID of the output display.\n",
              " * @return {!Iterable<!Object>} Iterable of next steps.\n",
              " */\n",
              "function* uploadFilesStep(inputId, outputId) {\n",
              "  const inputElement = document.getElementById(inputId);\n",
              "  inputElement.disabled = false;\n",
              "\n",
              "  const outputElement = document.getElementById(outputId);\n",
              "  outputElement.innerHTML = '';\n",
              "\n",
              "  const pickedPromise = new Promise((resolve) => {\n",
              "    inputElement.addEventListener('change', (e) => {\n",
              "      resolve(e.target.files);\n",
              "    });\n",
              "  });\n",
              "\n",
              "  const cancel = document.createElement('button');\n",
              "  inputElement.parentElement.appendChild(cancel);\n",
              "  cancel.textContent = 'Cancel upload';\n",
              "  const cancelPromise = new Promise((resolve) => {\n",
              "    cancel.onclick = () => {\n",
              "      resolve(null);\n",
              "    };\n",
              "  });\n",
              "\n",
              "  // Wait for the user to pick the files.\n",
              "  const files = yield {\n",
              "    promise: Promise.race([pickedPromise, cancelPromise]),\n",
              "    response: {\n",
              "      action: 'starting',\n",
              "    }\n",
              "  };\n",
              "\n",
              "  cancel.remove();\n",
              "\n",
              "  // Disable the input element since further picks are not allowed.\n",
              "  inputElement.disabled = true;\n",
              "\n",
              "  if (!files) {\n",
              "    return {\n",
              "      response: {\n",
              "        action: 'complete',\n",
              "      }\n",
              "    };\n",
              "  }\n",
              "\n",
              "  for (const file of files) {\n",
              "    const li = document.createElement('li');\n",
              "    li.append(span(file.name, {fontWeight: 'bold'}));\n",
              "    li.append(span(\n",
              "        `(${file.type || 'n/a'}) - ${file.size} bytes, ` +\n",
              "        `last modified: ${\n",
              "            file.lastModifiedDate ? file.lastModifiedDate.toLocaleDateString() :\n",
              "                                    'n/a'} - `));\n",
              "    const percent = span('0% done');\n",
              "    li.appendChild(percent);\n",
              "\n",
              "    outputElement.appendChild(li);\n",
              "\n",
              "    const fileDataPromise = new Promise((resolve) => {\n",
              "      const reader = new FileReader();\n",
              "      reader.onload = (e) => {\n",
              "        resolve(e.target.result);\n",
              "      };\n",
              "      reader.readAsArrayBuffer(file);\n",
              "    });\n",
              "    // Wait for the data to be ready.\n",
              "    let fileData = yield {\n",
              "      promise: fileDataPromise,\n",
              "      response: {\n",
              "        action: 'continue',\n",
              "      }\n",
              "    };\n",
              "\n",
              "    // Use a chunked sending to avoid message size limits. See b/62115660.\n",
              "    let position = 0;\n",
              "    do {\n",
              "      const length = Math.min(fileData.byteLength - position, MAX_PAYLOAD_SIZE);\n",
              "      const chunk = new Uint8Array(fileData, position, length);\n",
              "      position += length;\n",
              "\n",
              "      const base64 = btoa(String.fromCharCode.apply(null, chunk));\n",
              "      yield {\n",
              "        response: {\n",
              "          action: 'append',\n",
              "          file: file.name,\n",
              "          data: base64,\n",
              "        },\n",
              "      };\n",
              "\n",
              "      let percentDone = fileData.byteLength === 0 ?\n",
              "          100 :\n",
              "          Math.round((position / fileData.byteLength) * 100);\n",
              "      percent.textContent = `${percentDone}% done`;\n",
              "\n",
              "    } while (position < fileData.byteLength);\n",
              "  }\n",
              "\n",
              "  // All done.\n",
              "  yield {\n",
              "    response: {\n",
              "      action: 'complete',\n",
              "    }\n",
              "  };\n",
              "}\n",
              "\n",
              "scope.google = scope.google || {};\n",
              "scope.google.colab = scope.google.colab || {};\n",
              "scope.google.colab._files = {\n",
              "  _uploadFiles,\n",
              "  _uploadFilesContinue,\n",
              "};\n",
              "})(self);\n",
              "</script> "
            ]
          },
          "metadata": {}
        },
        {
          "output_type": "stream",
          "name": "stdout",
          "text": [
            "Saving admission_data.csv.csv to admission_data.csv (2).csv\n"
          ]
        }
      ]
    },
    {
      "cell_type": "markdown",
      "source": [
        "GRE Score (Graduate Record Examination) is like a test placement organized by the university during the admission application\n",
        "\n",
        "SOP (Statement of Purpose): is a motivation letter\n",
        "\n",
        "LOR (Letter of Recommendation):  Letters written by professors, employers\n",
        "CGPA (Cumulative Grade Point Average)\n",
        "\n",
        "The University Rating feature typically refers to a numerical or categorical value that rates or ranks universities based on their overall reputation, quality of education, or competitiveness\n",
        "\n",
        "These metrics with TOFEL (120) and Research work (if any) collectively help universities assess your academic readiness, English proficiency, research interests, and potential for success in their program."
      ],
      "metadata": {
        "id": "QH6YgvgtD2Lm"
      }
    },
    {
      "cell_type": "code",
      "source": [
        "\n",
        "# Inspect the data\n",
        "print(\"Data file head\")\n",
        "print(df.head())\n",
        "print(\"Data file info\")\n",
        "print(df.info())\n",
        "print(\"\")\n",
        "print(\"*****Print column names*****\")\n",
        "print(\"\")\n",
        "print(df.columns.tolist())\n",
        "\n",
        "#remove spaces at the end of at the begining of the col name\n",
        "df.columns = df.columns.str.strip()\n",
        "print(\"Let us print the target col\")\n",
        "print(df['Chance of Admit'])\n",
        "\n",
        "print(\"\")\n",
        "print(\"Checking missing values in the data\")\n",
        "\n",
        "# Check for missing values\n",
        "print(df.isnull().sum())\n",
        "print(\"Done\")"
      ],
      "metadata": {
        "colab": {
          "base_uri": "https://localhost:8080/"
        },
        "id": "4lmVljVD5cgX",
        "outputId": "5f4ea9e5-f5f3-4f50-f581-fcbe8a785b9a"
      },
      "execution_count": null,
      "outputs": [
        {
          "output_type": "stream",
          "name": "stdout",
          "text": [
            "Data file head\n",
            "   GRE Score  TOEFL Score  University Rating  SOP  LOR  CGPA  Research  \\\n",
            "0        337          118                  4  4.5  4.5  9.65         1   \n",
            "1        324          107                  4  4.0  4.5  8.87         1   \n",
            "2        316          104                  3  3.0  3.5  8.00         1   \n",
            "3        322          110                  3  3.5  2.5  8.67         1   \n",
            "4        314          103                  2  2.0  3.0  8.21         0   \n",
            "\n",
            "   Chance of Admit  \n",
            "0             0.92  \n",
            "1             0.76  \n",
            "2             0.72  \n",
            "3             0.80  \n",
            "4             0.65  \n",
            "Data file info\n",
            "<class 'pandas.core.frame.DataFrame'>\n",
            "RangeIndex: 500 entries, 0 to 499\n",
            "Data columns (total 8 columns):\n",
            " #   Column             Non-Null Count  Dtype  \n",
            "---  ------             --------------  -----  \n",
            " 0   GRE Score          500 non-null    int64  \n",
            " 1   TOEFL Score        500 non-null    int64  \n",
            " 2   University Rating  500 non-null    int64  \n",
            " 3   SOP                500 non-null    float64\n",
            " 4   LOR                500 non-null    float64\n",
            " 5   CGPA               500 non-null    float64\n",
            " 6   Research           500 non-null    int64  \n",
            " 7   Chance of Admit    500 non-null    float64\n",
            "dtypes: float64(4), int64(4)\n",
            "memory usage: 31.4 KB\n",
            "None\n",
            "\n",
            "*****Print column names*****\n",
            "\n",
            "['GRE Score', 'TOEFL Score', 'University Rating', 'SOP', 'LOR', 'CGPA', 'Research', 'Chance of Admit']\n",
            "Let us print the target col\n",
            "0      0.92\n",
            "1      0.76\n",
            "2      0.72\n",
            "3      0.80\n",
            "4      0.65\n",
            "       ... \n",
            "495    0.87\n",
            "496    0.96\n",
            "497    0.93\n",
            "498    0.73\n",
            "499    0.84\n",
            "Name: Chance of Admit, Length: 500, dtype: float64\n",
            "\n",
            "Checking missing values in the data\n",
            "GRE Score            0\n",
            "TOEFL Score          0\n",
            "University Rating    0\n",
            "SOP                  0\n",
            "LOR                  0\n",
            "CGPA                 0\n",
            "Research             0\n",
            "Chance of Admit      0\n",
            "dtype: int64\n",
            "Done\n"
          ]
        }
      ]
    },
    {
      "cell_type": "markdown",
      "source": [
        "**Step 3: Data Preprocessing**\n",
        "\n",
        "Feature Engineering: Normalize scores, encode categorical features.\n",
        "Target Variable: Create binary labels for admission success rates."
      ],
      "metadata": {
        "id": "DFoRD3vJ2-34"
      }
    },
    {
      "cell_type": "code",
      "source": [
        "# Normalize GRE, TOEFL, and GPA\n",
        "df['GRE_Score'] = df['GRE Score'] / 340\n",
        "df['TOEFL_Score'] = df['TOEFL Score'] / 120\n",
        "df['GPA'] = df['CGPA'] / 10\n",
        "\n",
        "# Define target: Admission success\n",
        "df['Admitted'] = (df['Chance of Admit'] > 0.7).astype(int)\n",
        "print(\"Print column names\")\n",
        "print(df.columns.tolist())\n",
        "print(\"Drop redundant columns\")\n",
        "df = df.drop(['GRE Score', 'TOEFL Score', 'CGPA', 'Chance of Admit'], axis=1)\n",
        "print(df.head())"
      ],
      "metadata": {
        "id": "1DTEEdCq3DEf",
        "colab": {
          "base_uri": "https://localhost:8080/"
        },
        "outputId": "074c4aaa-56ca-4b52-b3ad-30065f9d4c2b"
      },
      "execution_count": null,
      "outputs": [
        {
          "output_type": "stream",
          "name": "stdout",
          "text": [
            "Print column names\n",
            "['GRE Score', 'TOEFL Score', 'University Rating', 'SOP', 'LOR', 'CGPA', 'Research', 'Chance of Admit', 'GRE_Score', 'TOEFL_Score', 'GPA', 'Admitted']\n",
            "Drop redundant columns\n",
            "   University Rating  SOP  LOR  Research  GRE_Score  TOEFL_Score    GPA  \\\n",
            "0                  4  4.5  4.5         1   0.991176     0.983333  0.965   \n",
            "1                  4  4.0  4.5         1   0.952941     0.891667  0.887   \n",
            "2                  3  3.0  3.5         1   0.929412     0.866667  0.800   \n",
            "3                  3  3.5  2.5         1   0.947059     0.916667  0.867   \n",
            "4                  2  2.0  3.0         0   0.923529     0.858333  0.821   \n",
            "\n",
            "   Admitted  \n",
            "0         1  \n",
            "1         1  \n",
            "2         1  \n",
            "3         1  \n",
            "4         0  \n"
          ]
        }
      ]
    },
    {
      "cell_type": "markdown",
      "source": [
        "**Step 4:** Train a Classification Model\n",
        "\n",
        "Split the data into training and testing sets and train a classifier."
      ],
      "metadata": {
        "id": "BicI-1_t-IpY"
      }
    },
    {
      "cell_type": "markdown",
      "source": [
        "In scikit-learn (Python), train_test_split splits your dataset into training and test sets. Specifically:\n",
        "\n",
        "X: The features (input variables) in your dataset.\n",
        "y: The target (output variable/labels) corresponding to each row in X.\n",
        "\n",
        "random_state= an int value (like 1 or 5 or 42 ... ): Ensures reproducibility. Using the same seed (42 here) guarantees you get the same random split each time the code runs."
      ],
      "metadata": {
        "id": "PBHkT6dcR33G"
      }
    },
    {
      "cell_type": "code",
      "source": [
        "# Split data\n",
        "X = df.drop('Admitted', axis=1)\n",
        "y = df['Admitted']\n",
        "\n",
        "X_train, X_test, y_train, y_test = train_test_split(X, y, test_size=0.2, random_state=42)\n",
        "\n",
        "# Train Random Forest Classifier\n",
        "model = RandomForestClassifier(random_state=42)\n",
        "model.fit(X_train, y_train)\n",
        "\n",
        "# Test model\n",
        "y_pred = model.predict(X_test)\n",
        "print(\"Accuracy:\", accuracy_score(y_test, y_pred))\n",
        "print(classification_report(y_test, y_pred))\n",
        "\n",
        "#let us try with some randomn data /\n",
        "new_data_point = [3, 4.5, 4.5, 0, 0.95, 0.98  ,0.96]\n",
        "y_p1=\n"
      ],
      "metadata": {
        "colab": {
          "base_uri": "https://localhost:8080/"
        },
        "id": "_bA19iSM-MeY",
        "outputId": "9ccf475c-4ab6-42d6-8344-583483392a92"
      },
      "execution_count": null,
      "outputs": [
        {
          "output_type": "stream",
          "name": "stdout",
          "text": [
            "Accuracy: 0.84\n",
            "              precision    recall  f1-score   support\n",
            "\n",
            "           0       0.84      0.84      0.84        49\n",
            "           1       0.84      0.84      0.84        51\n",
            "\n",
            "    accuracy                           0.84       100\n",
            "   macro avg       0.84      0.84      0.84       100\n",
            "weighted avg       0.84      0.84      0.84       100\n",
            "\n"
          ]
        }
      ]
    },
    {
      "cell_type": "code",
      "source": [
        "# Split data\n",
        "X = df.drop('Admitted', axis=1)\n",
        "y = df['Admitted']\n",
        "\n",
        "X_train, X_test, y_train, y_test = train_test_split(X, y, test_size=0.2, random_state=42)\n",
        "\n",
        "# Train Random Forest Classifier\n",
        "model = RandomForestClassifier(random_state=42)\n",
        "model.fit(X_train, y_train)\n",
        "\n",
        "# Test model\n",
        "y_pred = model.predict(X_test)\n",
        "print(\"Accuracy:\", accuracy_score(y_test, y_pred))\n",
        "print(classification_report(y_test, y_pred))\n"
      ],
      "metadata": {
        "colab": {
          "base_uri": "https://localhost:8080/"
        },
        "outputId": "9ccf475c-4ab6-42d6-8344-583483392a92",
        "id": "9GbkNKvDUCBh"
      },
      "execution_count": null,
      "outputs": [
        {
          "output_type": "stream",
          "name": "stdout",
          "text": [
            "Accuracy: 0.84\n",
            "              precision    recall  f1-score   support\n",
            "\n",
            "           0       0.84      0.84      0.84        49\n",
            "           1       0.84      0.84      0.84        51\n",
            "\n",
            "    accuracy                           0.84       100\n",
            "   macro avg       0.84      0.84      0.84       100\n",
            "weighted avg       0.84      0.84      0.84       100\n",
            "\n"
          ]
        }
      ]
    },
    {
      "cell_type": "markdown",
      "source": [
        "We can provide any input based on the student profile and expect 1 admitted or 0 not admitted.\n",
        "Our last data fram df after the normalization and removing the redundancy is as follows:\n",
        "[University Rating , SOP , LOR , Research , GRE_Score,  TOEFL_Score  ,  GPA]"
      ],
      "metadata": {
        "id": "qKXwRAJ1U3y7"
      }
    },
    {
      "cell_type": "code",
      "source": [
        "#let us try with some randomn data /\n",
        "new_data_point = [4, 4.5, 4.5, 0, 0.75, 0.78  ,0.96]\n",
        "y_p1=model.predict([new_data_point])\n",
        "print(y_p1)"
      ],
      "metadata": {
        "colab": {
          "base_uri": "https://localhost:8080/"
        },
        "id": "Q63QXTPfUOH8",
        "outputId": "f30c324d-33cc-4134-bf04-ccde3145944a"
      },
      "execution_count": null,
      "outputs": [
        {
          "output_type": "stream",
          "name": "stdout",
          "text": [
            "[0]\n"
          ]
        },
        {
          "output_type": "stream",
          "name": "stderr",
          "text": [
            "/usr/local/lib/python3.11/dist-packages/sklearn/utils/validation.py:2739: UserWarning: X does not have valid feature names, but RandomForestClassifier was fitted with feature names\n",
            "  warnings.warn(\n"
          ]
        }
      ]
    },
    {
      "cell_type": "markdown",
      "source": [
        "For model selection, we can use any classifier that may work in our problem like:\n",
        "\n",
        "from sklearn.linear_model import LogisticRegression\n",
        "\n",
        "model = LogisticRegression(random_state=42)\n",
        "\n",
        "model.fit(X_train, y_train)\n",
        "\n",
        " or\n",
        "\n",
        "from sklearn.ensemble import GradientBoostingClassifier\n",
        "\n",
        "model = GradientBoostingClassifier(random_state=42)\n",
        "\n",
        "model.fit(X_train, y_train)\n"
      ],
      "metadata": {
        "id": "MNMoJwblSdcl"
      }
    },
    {
      "cell_type": "markdown",
      "source": [],
      "metadata": {
        "id": "_tppk7N8SuP1"
      }
    },
    {
      "cell_type": "markdown",
      "source": [
        "**Step 5: University Recommendation System**\n",
        "\n",
        "Build a system that ranks universities based on a student’s predicted admission success and their interests.\n",
        "Simulate university admission criteria and match probabilities."
      ],
      "metadata": {
        "id": "x0DOsKLr-YMo"
      }
    },
    {
      "cell_type": "code",
      "source": [
        "# Mock university data\n",
        "universities = pd.DataFrame({\n",
        "    \"University\": [\"MIT\", \"Stanford\", \"Sorbonne\", \"UDST\", \"Berkeley\", \"QatarUniv\"],\n",
        "    \"Required GRE\": [320, 335, 325, 325, 310, 320],\n",
        "    \"Required GPA\": [9.0, 9.5, 9.8, 9.2, 8.5, 8.95]\n",
        "})\n",
        "\n",
        "# Recommend based on profile\n",
        "def recommend_universities(student_profile):\n",
        "    recommendations = universities[\n",
        "        (universities[\"Required GRE\"] <= student_profile[\"GRE_Score\"] * 340) &\n",
        "        (universities[\"Required GPA\"] <= student_profile[\"GPA\"] * 10)\n",
        "    ]\n",
        "    return recommendations\n",
        "\n",
        "# Example student profile\n",
        "student = {\"GRE_Score\": 0.95, \"GPA\": 0.95}\n",
        "print(recommend_universities(student))\n"
      ],
      "metadata": {
        "colab": {
          "base_uri": "https://localhost:8080/"
        },
        "id": "d2XQ0uAj-cNg",
        "outputId": "76e03b5d-d958-4915-de43-cc5dc55d0c01"
      },
      "execution_count": null,
      "outputs": [
        {
          "output_type": "stream",
          "name": "stdout",
          "text": [
            "  University  Required GRE  Required GPA\n",
            "0        MIT           320          9.00\n",
            "4   Berkeley           310          8.50\n",
            "5  QatarUniv           320          8.95\n"
          ]
        }
      ]
    },
    {
      "cell_type": "code",
      "source": [],
      "metadata": {
        "id": "eIKi_R7d-pMA"
      },
      "execution_count": null,
      "outputs": []
    },
    {
      "cell_type": "markdown",
      "source": [
        "****Improvement to the dataset *****"
      ],
      "metadata": {
        "id": "Cj0Vh1Iv_pxh"
      }
    },
    {
      "cell_type": "code",
      "source": [
        "import pandas as pd\n",
        "\n",
        "# Example dataset structure\n",
        "data = {\n",
        "    'Student_ID': [1, 2, 3, 4, 5],\n",
        "    'GRE Score': [330, 320, 300, 310, 315],\n",
        "    'TOEFL Score': [115, 110, 100, 105, 107],\n",
        "    'CGPA': [9.0, 8.5, 7.5, 8.0, 8.2],\n",
        "    'Behavior': ['Quiet', 'Energetic', 'Social', 'Quiet', 'Isolated'],\n",
        "    'Preferred Subjects': ['Music', 'Math', 'Science', 'Music', 'Languages'],\n",
        "    'Target University': ['Paris Sorbonne', 'California', 'Cairo', 'Milan', 'Mexico']\n",
        "}\n",
        "\n",
        "df = pd.DataFrame(data)\n",
        "\n",
        "# Enriching data for example:\n",
        "df['Recommendation'] = df.apply(\n",
        "    lambda row: \"Medicine or Music\" if row['Behavior'] == 'Quiet' else \"Languages or Politics\",\n",
        "    axis=1\n",
        ")\n",
        "\n",
        "# Save to file for GPT upload\n",
        "df.to_csv('Enhanced_Admission_Data.csv', index=False)\n",
        "\n",
        "print(df)\n"
      ],
      "metadata": {
        "colab": {
          "base_uri": "https://localhost:8080/"
        },
        "id": "nILfkYAn_vfR",
        "outputId": "afde961b-6146-4774-9c49-308663d67150"
      },
      "execution_count": null,
      "outputs": [
        {
          "output_type": "stream",
          "name": "stdout",
          "text": [
            "   Student_ID  GRE Score  TOEFL Score  CGPA   Behavior Preferred Subjects  \\\n",
            "0           1        330          115   9.0      Quiet              Music   \n",
            "1           2        320          110   8.5  Energetic               Math   \n",
            "2           3        300          100   7.5     Social            Science   \n",
            "3           4        310          105   8.0      Quiet              Music   \n",
            "4           5        315          107   8.2   Isolated          Languages   \n",
            "\n",
            "  Target University         Recommendation  \n",
            "0    Paris Sorbonne      Medicine or Music  \n",
            "1        California  Languages or Politics  \n",
            "2             Cairo  Languages or Politics  \n",
            "3             Milan      Medicine or Music  \n",
            "4            Mexico  Languages or Politics  \n"
          ]
        }
      ]
    },
    {
      "cell_type": "code",
      "source": [],
      "metadata": {
        "id": "KTIk9RQvWRSB"
      },
      "execution_count": null,
      "outputs": []
    }
  ]
}